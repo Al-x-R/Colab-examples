{
  "nbformat": 4,
  "nbformat_minor": 0,
  "metadata": {
    "colab": {
      "name": "tensorF.ipynb",
      "provenance": [],
      "collapsed_sections": [],
      "include_colab_link": true
    },
    "kernelspec": {
      "name": "python3",
      "display_name": "Python 3"
    }
  },
  "cells": [
    {
      "cell_type": "markdown",
      "metadata": {
        "id": "view-in-github",
        "colab_type": "text"
      },
      "source": [
        "<a href=\"https://colab.research.google.com/github/Al-x-R/Colab-examples/blob/master/tensorflow.ipynb\" target=\"_parent\"><img src=\"https://colab.research.google.com/assets/colab-badge.svg\" alt=\"Open In Colab\"/></a>"
      ]
    },
    {
      "cell_type": "code",
      "metadata": {
        "id": "YoAxrUWFn5yN",
        "colab_type": "code",
        "colab": {}
      },
      "source": [
        "import tensorflow as tf"
      ],
      "execution_count": 0,
      "outputs": []
    },
    {
      "cell_type": "code",
      "metadata": {
        "id": "kl2OjLbfoY05",
        "colab_type": "code",
        "colab": {}
      },
      "source": [
        "input_value = tf.constant(1.0)"
      ],
      "execution_count": 0,
      "outputs": []
    },
    {
      "cell_type": "code",
      "metadata": {
        "id": "mbLzBhbdoY90",
        "colab_type": "code",
        "colab": {}
      },
      "source": [
        "graph = tf.get_default_graph()"
      ],
      "execution_count": 0,
      "outputs": []
    },
    {
      "cell_type": "code",
      "metadata": {
        "id": "fulsEYSJoZE9",
        "colab_type": "code",
        "outputId": "a0fea680-0e72-4c8c-8bfb-223850c56dc9",
        "colab": {
          "base_uri": "https://localhost:8080/",
          "height": 340
        }
      },
      "source": [
        "graph.get_operations()[0].node_def # подробное описание "
      ],
      "execution_count": 0,
      "outputs": [
        {
          "output_type": "execute_result",
          "data": {
            "text/plain": [
              "name: \"Const\"\n",
              "op: \"Const\"\n",
              "attr {\n",
              "  key: \"dtype\"\n",
              "  value {\n",
              "    type: DT_FLOAT\n",
              "  }\n",
              "}\n",
              "attr {\n",
              "  key: \"value\"\n",
              "  value {\n",
              "    tensor {\n",
              "      dtype: DT_FLOAT\n",
              "      tensor_shape {\n",
              "      }\n",
              "      float_val: 1.0\n",
              "    }\n",
              "  }\n",
              "}"
            ]
          },
          "metadata": {
            "tags": []
          },
          "execution_count": 69
        }
      ]
    },
    {
      "cell_type": "code",
      "metadata": {
        "id": "2ecIE1s_oZLM",
        "colab_type": "code",
        "outputId": "ed6e95d8-277c-4691-decc-781b8ec69cb4",
        "colab": {
          "base_uri": "https://localhost:8080/",
          "height": 34
        }
      },
      "source": [
        "input_value"
      ],
      "execution_count": 0,
      "outputs": [
        {
          "output_type": "execute_result",
          "data": {
            "text/plain": [
              "<tf.Tensor 'Const_1:0' shape=() dtype=float32>"
            ]
          },
          "metadata": {
            "tags": []
          },
          "execution_count": 70
        }
      ]
    },
    {
      "cell_type": "code",
      "metadata": {
        "id": "JC2dHK0DoZtv",
        "colab_type": "code",
        "outputId": "20702d23-81a4-4b0e-cf08-ae33445c7536",
        "colab": {
          "base_uri": "https://localhost:8080/",
          "height": 34
        }
      },
      "source": [
        "session1 = tf.Session()\n",
        "session1.run(input_value)"
      ],
      "execution_count": 0,
      "outputs": [
        {
          "output_type": "execute_result",
          "data": {
            "text/plain": [
              "1.0"
            ]
          },
          "metadata": {
            "tags": []
          },
          "execution_count": 71
        }
      ]
    },
    {
      "cell_type": "code",
      "metadata": {
        "id": "nWToSWjsoZxM",
        "colab_type": "code",
        "colab": {}
      },
      "source": [
        "weight = tf.Variable(0.8)"
      ],
      "execution_count": 0,
      "outputs": []
    },
    {
      "cell_type": "code",
      "metadata": {
        "id": "VYWkrYBhoZ0F",
        "colab_type": "code",
        "colab": {}
      },
      "source": [
        "#graph.get_operations()"
      ],
      "execution_count": 0,
      "outputs": []
    },
    {
      "cell_type": "code",
      "metadata": {
        "id": "MX1j0Pr3oZ5L",
        "colab_type": "code",
        "colab": {}
      },
      "source": [
        "output_value = weight * input_value"
      ],
      "execution_count": 0,
      "outputs": []
    },
    {
      "cell_type": "code",
      "metadata": {
        "id": "VIQh_tBkoZ8D",
        "colab_type": "code",
        "colab": {}
      },
      "source": [
        "#graph.get_operations()"
      ],
      "execution_count": 0,
      "outputs": []
    },
    {
      "cell_type": "code",
      "metadata": {
        "id": "zUMpB7fIoaCO",
        "colab_type": "code",
        "outputId": "59a1c3e0-7a46-4ea6-d970-5e6094460a24",
        "colab": {
          "base_uri": "https://localhost:8080/",
          "height": 34
        }
      },
      "source": [
        "session1.run(tf.initialize_all_variables())\n",
        "session1.run(output_value)"
      ],
      "execution_count": 0,
      "outputs": [
        {
          "output_type": "execute_result",
          "data": {
            "text/plain": [
              "0.8"
            ]
          },
          "metadata": {
            "tags": []
          },
          "execution_count": 76
        }
      ]
    },
    {
      "cell_type": "code",
      "metadata": {
        "id": "mgC5egx5oaFG",
        "colab_type": "code",
        "colab": {}
      },
      "source": [
        "x = tf.constant(1.5, name='input')\n",
        "w = tf.Variable(0.8, name='weight')\n",
        "y = tf.multiply(w, x)"
      ],
      "execution_count": 0,
      "outputs": []
    },
    {
      "cell_type": "code",
      "metadata": {
        "id": "wMVt7YUHrV4n",
        "colab_type": "code",
        "colab": {}
      },
      "source": [
        "y_ = tf.constant(0.32, name='target')"
      ],
      "execution_count": 0,
      "outputs": []
    },
    {
      "cell_type": "code",
      "metadata": {
        "id": "8cBF8ym8rV7w",
        "colab_type": "code",
        "colab": {}
      },
      "source": [
        "loss = (y - y_)**2"
      ],
      "execution_count": 0,
      "outputs": []
    },
    {
      "cell_type": "code",
      "metadata": {
        "id": "TRDPkT4srV_D",
        "colab_type": "code",
        "colab": {}
      },
      "source": [
        "optim = tf.train.GradientDescentOptimizer(learning_rate=0.01)"
      ],
      "execution_count": 0,
      "outputs": []
    },
    {
      "cell_type": "code",
      "metadata": {
        "id": "6y-B-MZprWET",
        "colab_type": "code",
        "outputId": "be977fa7-f0aa-4a00-b87f-b88ead5ec350",
        "colab": {
          "base_uri": "https://localhost:8080/",
          "height": 34
        }
      },
      "source": [
        "grads_and_vars = optim.compute_gradients(loss)\n",
        "session2 = tf.Session()\n",
        "session2.run(tf.initialize_all_variables())\n",
        "session2.run(grads_and_vars[0][1])"
      ],
      "execution_count": 0,
      "outputs": [
        {
          "output_type": "execute_result",
          "data": {
            "text/plain": [
              "0.8"
            ]
          },
          "metadata": {
            "tags": []
          },
          "execution_count": 81
        }
      ]
    },
    {
      "cell_type": "code",
      "metadata": {
        "id": "X0_U2ZGgrWHT",
        "colab_type": "code",
        "outputId": "4a6628b8-c8c0-481e-9d3f-2e9b772c524c",
        "colab": {
          "base_uri": "https://localhost:8080/",
          "height": 34
        }
      },
      "source": [
        "session2.run(optim.apply_gradients(grads_and_vars))\n",
        "print(session2.run(w), session2.run(y))"
      ],
      "execution_count": 0,
      "outputs": [
        {
          "output_type": "stream",
          "text": [
            "0.7736 1.1603999\n"
          ],
          "name": "stdout"
        }
      ]
    },
    {
      "cell_type": "code",
      "metadata": {
        "id": "2jN56KlNrWKD",
        "colab_type": "code",
        "outputId": "19241ae0-5f1f-4ba3-add7-20ffe271a600",
        "colab": {
          "base_uri": "https://localhost:8080/",
          "height": 34
        }
      },
      "source": [
        "train_step = tf.train.GradientDescentOptimizer(0.01).minimize(loss)\n",
        "for i in range(100):\n",
        "  session2.run(train_step)\n",
        "session2.run(y)"
      ],
      "execution_count": 0,
      "outputs": [
        {
          "output_type": "execute_result",
          "data": {
            "text/plain": [
              "0.3284105"
            ]
          },
          "metadata": {
            "tags": []
          },
          "execution_count": 83
        }
      ]
    },
    {
      "cell_type": "code",
      "metadata": {
        "id": "5A1cUSjwrWMr",
        "colab_type": "code",
        "colab": {}
      },
      "source": [
        "mnist = tf.keras.datasets.mnist"
      ],
      "execution_count": 0,
      "outputs": []
    },
    {
      "cell_type": "code",
      "metadata": {
        "id": "PA-irv1SrWPr",
        "colab_type": "code",
        "colab": {}
      },
      "source": [
        "(X_train, y_train), (X_test, y_test) = mnist.load_data()"
      ],
      "execution_count": 0,
      "outputs": []
    },
    {
      "cell_type": "code",
      "metadata": {
        "id": "Y2JH_yWRrWSc",
        "colab_type": "code",
        "outputId": "e0d34f87-1722-4b56-dcd9-d5f223fe7f95",
        "colab": {
          "base_uri": "https://localhost:8080/",
          "height": 51
        }
      },
      "source": [
        "print(X_train.shape, y_train.shape)\n",
        "print(X_test.shape, y_test.shape)"
      ],
      "execution_count": 0,
      "outputs": [
        {
          "output_type": "stream",
          "text": [
            "(60000, 28, 28) (60000,)\n",
            "(10000, 28, 28) (10000,)\n"
          ],
          "name": "stdout"
        }
      ]
    },
    {
      "cell_type": "code",
      "metadata": {
        "id": "yi_z8RIboaIw",
        "colab_type": "code",
        "colab": {}
      },
      "source": [
        "X_train = X_train / 255.0 * 0.99 + 0.01\n",
        "X_test = X_test / 255.0 * 0.99 + 0.01"
      ],
      "execution_count": 0,
      "outputs": []
    },
    {
      "cell_type": "code",
      "metadata": {
        "id": "QrPmJvPu3T99",
        "colab_type": "code",
        "colab": {}
      },
      "source": [
        "model = tf.keras.models.Sequential([\n",
        "                    tf.keras.layers.Flatten(input_shape=(28, 28)),\n",
        "                    tf.keras.layers.Dense(128, activation='relu'),\n",
        "                    tf.keras.layers.Dropout(0.2),\n",
        "                    tf.keras.layers.Dense(10, activation='softmax')\n",
        "])"
      ],
      "execution_count": 0,
      "outputs": []
    },
    {
      "cell_type": "code",
      "metadata": {
        "id": "IlBeyBXE3UDB",
        "colab_type": "code",
        "colab": {}
      },
      "source": [
        "model.compile(optimizer='adam',\n",
        "              loss='sparse_categorical_crossentropy',\n",
        "              metrics=['accuracy'])"
      ],
      "execution_count": 0,
      "outputs": []
    },
    {
      "cell_type": "code",
      "metadata": {
        "id": "LhV2Brpa3UHX",
        "colab_type": "code",
        "outputId": "6fbb3e32-9838-4066-b8b0-d9b48b491ee1",
        "colab": {
          "base_uri": "https://localhost:8080/",
          "height": 598
        }
      },
      "source": [
        "model.fit(X_train, y_train, epochs=15)\n",
        "model.evaluate(X_test, y_test, verbose=2)"
      ],
      "execution_count": 0,
      "outputs": [
        {
          "output_type": "stream",
          "text": [
            "Train on 60000 samples\n",
            "Epoch 1/15\n",
            "60000/60000 [==============================] - 5s 90us/sample - loss: 0.3027 - acc: 0.9128\n",
            "Epoch 2/15\n",
            "60000/60000 [==============================] - 5s 84us/sample - loss: 0.1472 - acc: 0.9563\n",
            "Epoch 3/15\n",
            "60000/60000 [==============================] - 6s 93us/sample - loss: 0.1110 - acc: 0.9662\n",
            "Epoch 4/15\n",
            "60000/60000 [==============================] - 5s 88us/sample - loss: 0.0908 - acc: 0.9716\n",
            "Epoch 5/15\n",
            "60000/60000 [==============================] - 5s 83us/sample - loss: 0.0784 - acc: 0.9758\n",
            "Epoch 6/15\n",
            "60000/60000 [==============================] - 5s 90us/sample - loss: 0.0682 - acc: 0.9781\n",
            "Epoch 7/15\n",
            "60000/60000 [==============================] - 5s 88us/sample - loss: 0.0604 - acc: 0.9808\n",
            "Epoch 8/15\n",
            "60000/60000 [==============================] - 6s 93us/sample - loss: 0.0561 - acc: 0.9819\n",
            "Epoch 9/15\n",
            "60000/60000 [==============================] - 5s 91us/sample - loss: 0.0512 - acc: 0.9827\n",
            "Epoch 10/15\n",
            "60000/60000 [==============================] - 5s 91us/sample - loss: 0.0470 - acc: 0.9852\n",
            "Epoch 11/15\n",
            "60000/60000 [==============================] - 6s 92us/sample - loss: 0.0452 - acc: 0.9851\n",
            "Epoch 12/15\n",
            "60000/60000 [==============================] - 6s 92us/sample - loss: 0.0420 - acc: 0.9863\n",
            "Epoch 13/15\n",
            "60000/60000 [==============================] - 5s 90us/sample - loss: 0.0385 - acc: 0.9879\n",
            "Epoch 14/15\n",
            "60000/60000 [==============================] - 5s 86us/sample - loss: 0.0356 - acc: 0.9877\n",
            "Epoch 15/15\n",
            "60000/60000 [==============================] - 5s 92us/sample - loss: 0.0346 - acc: 0.9880\n",
            "10000/10000 - 0s - loss: 0.0762 - acc: 0.9799\n"
          ],
          "name": "stdout"
        },
        {
          "output_type": "execute_result",
          "data": {
            "text/plain": [
              "[0.07618292646016125, 0.9799]"
            ]
          },
          "metadata": {
            "tags": []
          },
          "execution_count": 90
        }
      ]
    },
    {
      "cell_type": "code",
      "metadata": {
        "id": "J8jGqLSp3UPD",
        "colab_type": "code",
        "colab": {}
      },
      "source": [
        "import matplotlib.pyplot as plt\n"
      ],
      "execution_count": 0,
      "outputs": []
    },
    {
      "cell_type": "code",
      "metadata": {
        "id": "XYXcNwj95-6w",
        "colab_type": "code",
        "outputId": "3abe1cd2-289b-4bd1-a272-2b764ecbd842",
        "colab": {
          "base_uri": "https://localhost:8080/",
          "height": 607
        }
      },
      "source": [
        "n = 8\n",
        "fig, axs = plt.subplots(n, n, figsize=(10, 10))\n",
        "for i in range(n):\n",
        "  for j in range(n):\n",
        "    arr = X_train[n*i+j]\n",
        "    axs[i, j].imshow(arr, cmap='Greys')\n",
        "    axs[i, j].set_title(y_train[n*i+j], c='green')"
      ],
      "execution_count": 0,
      "outputs": [
        {
          "output_type": "display_data",
          "data": {
            "image/png": "[encoded data removed]",
            "text/plain": [
              "<Figure size 720x720 with 64 Axes>"
            ]
          },
          "metadata": {
            "tags": []
          }
        }
      ]
    },
    {
      "cell_type": "code",
      "metadata": {
        "id": "ldqmg-8T5--M",
        "colab_type": "code",
        "colab": {}
      },
      "source": [
        "import imageio\n",
        "import numpy as np\n",
        "import cv2"
      ],
      "execution_count": 0,
      "outputs": []
    },
    {
      "cell_type": "code",
      "metadata": {
        "id": "87eba--DMULK",
        "colab_type": "code",
        "colab": {}
      },
      "source": [
        "image = imageio.imread('Image013.png', as_gray=True)\n",
        "def image_resize(image, width = None, height = None, inter = cv2.INTER_AREA):\n",
        "    # initialize the dimensions of the image to be resized and\n",
        "    # grab the image size\n",
        "    dim = None\n",
        "    (h, w) = image.shape[:2]\n",
        "\n",
        "    # if both the width and height are None, then return the\n",
        "    # original image\n",
        "    if width is None and height is None:\n",
        "        return image\n",
        "\n",
        "    # check to see if the width is None\n",
        "    if width is None:\n",
        "        # calculate the ratio of the height and construct the\n",
        "        # dimensions\n",
        "        r = height / float(h)\n",
        "        dim = (int(w * r), height)\n",
        "\n",
        "    # otherwise, the height is None\n",
        "    else:\n",
        "        # calculate the ratio of the width and construct the\n",
        "        # dimensions\n",
        "        r = width / float(w)\n",
        "        dim = (width, int(h * r))\n",
        "\n",
        "    # resize the image\n",
        "    resized = cv2.resize(image, dim, interpolation = inter)\n",
        "\n",
        "    return resized"
      ],
      "execution_count": 0,
      "outputs": []
    },
    {
      "cell_type": "code",
      "metadata": {
        "id": "md6l_aLS5_CQ",
        "colab_type": "code",
        "outputId": "6d1f02bd-7341-4e1e-d574-bd0afb78693a",
        "colab": {
          "base_uri": "https://localhost:8080/",
          "height": 265
        }
      },
      "source": [
        "#img_arr = imageio.imread('Image006.png', as_gray=True)\n",
        "img_arr = image_resize(image, width = 28, height = 28, inter = cv2.INTER_AREA)\n",
        "#print(img_arr)\n",
        "plt.imshow(image_resize(image, width = 28, height = 28, inter = cv2.INTER_AREA));"
      ],
      "execution_count": 0,
      "outputs": [
        {
          "output_type": "display_data",
          "data": {
            "image/png": "[encoded data removed]",
            "text/plain": [
              "<Figure size 432x288 with 1 Axes>"
            ]
          },
          "metadata": {
            "tags": []
          }
        }
      ]
    },
    {
      "cell_type": "code",
      "metadata": {
        "id": "fZEYcjbJ8QKv",
        "colab_type": "code",
        "outputId": "f2263317-b18f-466c-b0eb-fd9f1bec79c6",
        "colab": {
          "base_uri": "https://localhost:8080/",
          "height": 265
        }
      },
      "source": [
        "img_arr_ = (255 - img_arr) / 255 * 0.99 + 0.01 #делаем 255 нулями\n",
        "#print(img_arr_)\n",
        "plt.imshow(img_arr_, cmap='Greys');"
      ],
      "execution_count": 0,
      "outputs": [
        {
          "output_type": "display_data",
          "data": {
            "image/png": "[encoded data removed]",
            "text/plain": [
              "<Figure size 432x288 with 1 Axes>"
            ]
          },
          "metadata": {
            "tags": []
          }
        }
      ]
    },
    {
      "cell_type": "code",
      "metadata": {
        "id": "qqmvIrNL8QXm",
        "colab_type": "code",
        "outputId": "79224bc1-0139-4875-8120-036e15eadb08",
        "colab": {
          "base_uri": "https://localhost:8080/",
          "height": 68
        }
      },
      "source": [
        "result = model.predict(img_arr_.reshape(1, 28, 28)).flatten()\n",
        "print(result)"
      ],
      "execution_count": 0,
      "outputs": [
        {
          "output_type": "stream",
          "text": [
            "[9.97193201e-05 5.93321020e-05 1.25125265e-02 4.91261343e-03\n",
            " 5.87589573e-03 2.23988891e-02 7.99243990e-03 1.12499911e-04\n",
            " 9.45686162e-01 3.49962269e-04]\n"
          ],
          "name": "stdout"
        }
      ]
    },
    {
      "cell_type": "code",
      "metadata": {
        "id": "ZLhMoD1B8Qgk",
        "colab_type": "code",
        "outputId": "4ac37f0b-b479-4cba-89ca-66371b8ee882",
        "colab": {
          "base_uri": "https://localhost:8080/",
          "height": 265
        }
      },
      "source": [
        "#import numpy as np\n",
        "plt.bar(x=np.arange(10), height=result);"
      ],
      "execution_count": 0,
      "outputs": [
        {
          "output_type": "display_data",
          "data": {
            "image/png": "[encoded data removed]",
            "text/plain": [
              "<Figure size 432x288 with 1 Axes>"
            ]
          },
          "metadata": {
            "tags": []
          }
        }
      ]
    }
  ]
}