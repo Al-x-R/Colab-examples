{
  "nbformat": 4,
  "nbformat_minor": 0,
  "metadata": {
    "colab": {
      "name": "hw_033.ipynb",
      "provenance": [],
      "collapsed_sections": [],
      "include_colab_link": true
    },
    "kernelspec": {
      "name": "python3",
      "display_name": "Python 3"
    }
  },
  "cells": [
    {
      "cell_type": "markdown",
      "metadata": {
        "id": "view-in-github",
        "colab_type": "text"
      },
      "source": [
        "<a href=\"https://colab.research.google.com/github/Al-x-R/Colab-examples/blob/master/PlayBoy_KNeighborsClassifier.ipynb\" target=\"_parent\"><img src=\"https://colab.research.google.com/assets/colab-badge.svg\" alt=\"Open In Colab\"/></a>"
      ]
    },
    {
      "cell_type": "code",
      "metadata": {
        "id": "mNUxlbnCpRq9",
        "colab_type": "code",
        "colab": {}
      },
      "source": [
        "import pandas as pd\n",
        "import numpy as np\n",
        "import matplotlib.pylab as plt\n",
        "from sklearn.neighbors import KNeighborsClassifier"
      ],
      "execution_count": 0,
      "outputs": []
    },
    {
      "cell_type": "code",
      "metadata": {
        "id": "_U7ZZK6o7DmX",
        "colab_type": "code",
        "colab": {}
      },
      "source": [
        ""
      ],
      "execution_count": 0,
      "outputs": []
    },
    {
      "cell_type": "code",
      "metadata": {
        "id": "rY5lAvYXpXQE",
        "colab_type": "code",
        "outputId": "2e1e4683-990a-4607-92b7-0a2ee6a98047",
        "colab": {
          "base_uri": "https://localhost:8080/",
          "height": 204
        }
      },
      "source": [
        "df = pd.read_csv('https://raw.githubusercontent.com/an-2-an/data/master/girls.csv')\n",
        "df.head()"
      ],
      "execution_count": 0,
      "outputs": [
        {
          "output_type": "execute_result",
          "data": {
            "text/html": [
              "<div>\n",
              "<style scoped>\n",
              "    .dataframe tbody tr th:only-of-type {\n",
              "        vertical-align: middle;\n",
              "    }\n",
              "\n",
              "    .dataframe tbody tr th {\n",
              "        vertical-align: top;\n",
              "    }\n",
              "\n",
              "    .dataframe thead th {\n",
              "        text-align: right;\n",
              "    }\n",
              "</style>\n",
              "<table border=\"1\" class=\"dataframe\">\n",
              "  <thead>\n",
              "    <tr style=\"text-align: right;\">\n",
              "      <th></th>\n",
              "      <th>Month</th>\n",
              "      <th>Year</th>\n",
              "      <th>Bust</th>\n",
              "      <th>Waist</th>\n",
              "      <th>Hips</th>\n",
              "      <th>Height</th>\n",
              "      <th>Weight</th>\n",
              "    </tr>\n",
              "  </thead>\n",
              "  <tbody>\n",
              "    <tr>\n",
              "      <th>0</th>\n",
              "      <td>December</td>\n",
              "      <td>1953</td>\n",
              "      <td>91</td>\n",
              "      <td>61</td>\n",
              "      <td>91</td>\n",
              "      <td>165</td>\n",
              "      <td>54</td>\n",
              "    </tr>\n",
              "    <tr>\n",
              "      <th>1</th>\n",
              "      <td>March</td>\n",
              "      <td>1954</td>\n",
              "      <td>86</td>\n",
              "      <td>61</td>\n",
              "      <td>89</td>\n",
              "      <td>168</td>\n",
              "      <td>54</td>\n",
              "    </tr>\n",
              "    <tr>\n",
              "      <th>2</th>\n",
              "      <td>July</td>\n",
              "      <td>1955</td>\n",
              "      <td>91</td>\n",
              "      <td>61</td>\n",
              "      <td>91</td>\n",
              "      <td>166</td>\n",
              "      <td>52</td>\n",
              "    </tr>\n",
              "    <tr>\n",
              "      <th>3</th>\n",
              "      <td>December</td>\n",
              "      <td>1955</td>\n",
              "      <td>91</td>\n",
              "      <td>61</td>\n",
              "      <td>91</td>\n",
              "      <td>166</td>\n",
              "      <td>52</td>\n",
              "    </tr>\n",
              "    <tr>\n",
              "      <th>4</th>\n",
              "      <td>July</td>\n",
              "      <td>1956</td>\n",
              "      <td>91</td>\n",
              "      <td>61</td>\n",
              "      <td>86</td>\n",
              "      <td>157</td>\n",
              "      <td>48</td>\n",
              "    </tr>\n",
              "  </tbody>\n",
              "</table>\n",
              "</div>"
            ],
            "text/plain": [
              "      Month  Year  Bust  Waist  Hips  Height  Weight\n",
              "0  December  1953    91     61    91     165      54\n",
              "1     March  1954    86     61    89     168      54\n",
              "2      July  1955    91     61    91     166      52\n",
              "3  December  1955    91     61    91     166      52\n",
              "4      July  1956    91     61    86     157      48"
            ]
          },
          "metadata": {
            "tags": []
          },
          "execution_count": 3
        }
      ]
    },
    {
      "cell_type": "code",
      "metadata": {
        "id": "D-6Mu-e2YR6F",
        "colab_type": "code",
        "outputId": "1f2130ef-1504-4da1-a225-6ed3a45cef0b",
        "colab": {
          "base_uri": "https://localhost:8080/",
          "height": 419
        }
      },
      "source": [
        "df.loc[(df['Year'] >= 1980) & (df['Year'] < 1980)]\n",
        "df"
      ],
      "execution_count": 0,
      "outputs": [
        {
          "output_type": "execute_result",
          "data": {
            "text/html": [
              "<div>\n",
              "<style scoped>\n",
              "    .dataframe tbody tr th:only-of-type {\n",
              "        vertical-align: middle;\n",
              "    }\n",
              "\n",
              "    .dataframe tbody tr th {\n",
              "        vertical-align: top;\n",
              "    }\n",
              "\n",
              "    .dataframe thead th {\n",
              "        text-align: right;\n",
              "    }\n",
              "</style>\n",
              "<table border=\"1\" class=\"dataframe\">\n",
              "  <thead>\n",
              "    <tr style=\"text-align: right;\">\n",
              "      <th></th>\n",
              "      <th>Month</th>\n",
              "      <th>Year</th>\n",
              "      <th>Bust</th>\n",
              "      <th>Waist</th>\n",
              "      <th>Hips</th>\n",
              "      <th>Height</th>\n",
              "      <th>Weight</th>\n",
              "    </tr>\n",
              "  </thead>\n",
              "  <tbody>\n",
              "    <tr>\n",
              "      <th>0</th>\n",
              "      <td>December</td>\n",
              "      <td>1953</td>\n",
              "      <td>91</td>\n",
              "      <td>61</td>\n",
              "      <td>91</td>\n",
              "      <td>165</td>\n",
              "      <td>54</td>\n",
              "    </tr>\n",
              "    <tr>\n",
              "      <th>1</th>\n",
              "      <td>March</td>\n",
              "      <td>1954</td>\n",
              "      <td>86</td>\n",
              "      <td>61</td>\n",
              "      <td>89</td>\n",
              "      <td>168</td>\n",
              "      <td>54</td>\n",
              "    </tr>\n",
              "    <tr>\n",
              "      <th>2</th>\n",
              "      <td>July</td>\n",
              "      <td>1955</td>\n",
              "      <td>91</td>\n",
              "      <td>61</td>\n",
              "      <td>91</td>\n",
              "      <td>166</td>\n",
              "      <td>52</td>\n",
              "    </tr>\n",
              "    <tr>\n",
              "      <th>3</th>\n",
              "      <td>December</td>\n",
              "      <td>1955</td>\n",
              "      <td>91</td>\n",
              "      <td>61</td>\n",
              "      <td>91</td>\n",
              "      <td>166</td>\n",
              "      <td>52</td>\n",
              "    </tr>\n",
              "    <tr>\n",
              "      <th>4</th>\n",
              "      <td>July</td>\n",
              "      <td>1956</td>\n",
              "      <td>91</td>\n",
              "      <td>61</td>\n",
              "      <td>86</td>\n",
              "      <td>157</td>\n",
              "      <td>48</td>\n",
              "    </tr>\n",
              "    <tr>\n",
              "      <th>...</th>\n",
              "      <td>...</td>\n",
              "      <td>...</td>\n",
              "      <td>...</td>\n",
              "      <td>...</td>\n",
              "      <td>...</td>\n",
              "      <td>...</td>\n",
              "      <td>...</td>\n",
              "    </tr>\n",
              "    <tr>\n",
              "      <th>599</th>\n",
              "      <td>September</td>\n",
              "      <td>2008</td>\n",
              "      <td>86</td>\n",
              "      <td>64</td>\n",
              "      <td>91</td>\n",
              "      <td>170</td>\n",
              "      <td>52</td>\n",
              "    </tr>\n",
              "    <tr>\n",
              "      <th>600</th>\n",
              "      <td>October</td>\n",
              "      <td>2008</td>\n",
              "      <td>86</td>\n",
              "      <td>61</td>\n",
              "      <td>86</td>\n",
              "      <td>165</td>\n",
              "      <td>52</td>\n",
              "    </tr>\n",
              "    <tr>\n",
              "      <th>601</th>\n",
              "      <td>November</td>\n",
              "      <td>2008</td>\n",
              "      <td>86</td>\n",
              "      <td>53</td>\n",
              "      <td>81</td>\n",
              "      <td>168</td>\n",
              "      <td>49</td>\n",
              "    </tr>\n",
              "    <tr>\n",
              "      <th>602</th>\n",
              "      <td>December</td>\n",
              "      <td>2008</td>\n",
              "      <td>86</td>\n",
              "      <td>64</td>\n",
              "      <td>89</td>\n",
              "      <td>173</td>\n",
              "      <td>52</td>\n",
              "    </tr>\n",
              "    <tr>\n",
              "      <th>603</th>\n",
              "      <td>January</td>\n",
              "      <td>2009</td>\n",
              "      <td>86</td>\n",
              "      <td>60</td>\n",
              "      <td>91</td>\n",
              "      <td>170</td>\n",
              "      <td>55</td>\n",
              "    </tr>\n",
              "  </tbody>\n",
              "</table>\n",
              "<p>604 rows × 7 columns</p>\n",
              "</div>"
            ],
            "text/plain": [
              "         Month  Year  Bust  Waist  Hips  Height  Weight\n",
              "0     December  1953    91     61    91     165      54\n",
              "1        March  1954    86     61    89     168      54\n",
              "2         July  1955    91     61    91     166      52\n",
              "3     December  1955    91     61    91     166      52\n",
              "4         July  1956    91     61    86     157      48\n",
              "..         ...   ...   ...    ...   ...     ...     ...\n",
              "599  September  2008    86     64    91     170      52\n",
              "600    October  2008    86     61    86     165      52\n",
              "601   November  2008    86     53    81     168      49\n",
              "602   December  2008    86     64    89     173      52\n",
              "603    January  2009    86     60    91     170      55\n",
              "\n",
              "[604 rows x 7 columns]"
            ]
          },
          "metadata": {
            "tags": []
          },
          "execution_count": 4
        }
      ]
    },
    {
      "cell_type": "code",
      "metadata": {
        "id": "gBllKKjp7Evz",
        "colab_type": "code",
        "colab": {}
      },
      "source": [
        "df['old'] = (df.Year > 1980).astype(int)"
      ],
      "execution_count": 0,
      "outputs": []
    },
    {
      "cell_type": "code",
      "metadata": {
        "id": "7I2Mf-nz7YxM",
        "colab_type": "code",
        "outputId": "86c7e5df-3637-4a8f-fd5a-d4094ee4d02e",
        "colab": {
          "base_uri": "https://localhost:8080/",
          "height": 419
        }
      },
      "source": [
        "df"
      ],
      "execution_count": 0,
      "outputs": [
        {
          "output_type": "execute_result",
          "data": {
            "text/html": [
              "<div>\n",
              "<style scoped>\n",
              "    .dataframe tbody tr th:only-of-type {\n",
              "        vertical-align: middle;\n",
              "    }\n",
              "\n",
              "    .dataframe tbody tr th {\n",
              "        vertical-align: top;\n",
              "    }\n",
              "\n",
              "    .dataframe thead th {\n",
              "        text-align: right;\n",
              "    }\n",
              "</style>\n",
              "<table border=\"1\" class=\"dataframe\">\n",
              "  <thead>\n",
              "    <tr style=\"text-align: right;\">\n",
              "      <th></th>\n",
              "      <th>Month</th>\n",
              "      <th>Year</th>\n",
              "      <th>Bust</th>\n",
              "      <th>Waist</th>\n",
              "      <th>Hips</th>\n",
              "      <th>Height</th>\n",
              "      <th>Weight</th>\n",
              "      <th>old</th>\n",
              "    </tr>\n",
              "  </thead>\n",
              "  <tbody>\n",
              "    <tr>\n",
              "      <th>0</th>\n",
              "      <td>December</td>\n",
              "      <td>1953</td>\n",
              "      <td>91</td>\n",
              "      <td>61</td>\n",
              "      <td>91</td>\n",
              "      <td>165</td>\n",
              "      <td>54</td>\n",
              "      <td>0</td>\n",
              "    </tr>\n",
              "    <tr>\n",
              "      <th>1</th>\n",
              "      <td>March</td>\n",
              "      <td>1954</td>\n",
              "      <td>86</td>\n",
              "      <td>61</td>\n",
              "      <td>89</td>\n",
              "      <td>168</td>\n",
              "      <td>54</td>\n",
              "      <td>0</td>\n",
              "    </tr>\n",
              "    <tr>\n",
              "      <th>2</th>\n",
              "      <td>July</td>\n",
              "      <td>1955</td>\n",
              "      <td>91</td>\n",
              "      <td>61</td>\n",
              "      <td>91</td>\n",
              "      <td>166</td>\n",
              "      <td>52</td>\n",
              "      <td>0</td>\n",
              "    </tr>\n",
              "    <tr>\n",
              "      <th>3</th>\n",
              "      <td>December</td>\n",
              "      <td>1955</td>\n",
              "      <td>91</td>\n",
              "      <td>61</td>\n",
              "      <td>91</td>\n",
              "      <td>166</td>\n",
              "      <td>52</td>\n",
              "      <td>0</td>\n",
              "    </tr>\n",
              "    <tr>\n",
              "      <th>4</th>\n",
              "      <td>July</td>\n",
              "      <td>1956</td>\n",
              "      <td>91</td>\n",
              "      <td>61</td>\n",
              "      <td>86</td>\n",
              "      <td>157</td>\n",
              "      <td>48</td>\n",
              "      <td>0</td>\n",
              "    </tr>\n",
              "    <tr>\n",
              "      <th>...</th>\n",
              "      <td>...</td>\n",
              "      <td>...</td>\n",
              "      <td>...</td>\n",
              "      <td>...</td>\n",
              "      <td>...</td>\n",
              "      <td>...</td>\n",
              "      <td>...</td>\n",
              "      <td>...</td>\n",
              "    </tr>\n",
              "    <tr>\n",
              "      <th>599</th>\n",
              "      <td>September</td>\n",
              "      <td>2008</td>\n",
              "      <td>86</td>\n",
              "      <td>64</td>\n",
              "      <td>91</td>\n",
              "      <td>170</td>\n",
              "      <td>52</td>\n",
              "      <td>1</td>\n",
              "    </tr>\n",
              "    <tr>\n",
              "      <th>600</th>\n",
              "      <td>October</td>\n",
              "      <td>2008</td>\n",
              "      <td>86</td>\n",
              "      <td>61</td>\n",
              "      <td>86</td>\n",
              "      <td>165</td>\n",
              "      <td>52</td>\n",
              "      <td>1</td>\n",
              "    </tr>\n",
              "    <tr>\n",
              "      <th>601</th>\n",
              "      <td>November</td>\n",
              "      <td>2008</td>\n",
              "      <td>86</td>\n",
              "      <td>53</td>\n",
              "      <td>81</td>\n",
              "      <td>168</td>\n",
              "      <td>49</td>\n",
              "      <td>1</td>\n",
              "    </tr>\n",
              "    <tr>\n",
              "      <th>602</th>\n",
              "      <td>December</td>\n",
              "      <td>2008</td>\n",
              "      <td>86</td>\n",
              "      <td>64</td>\n",
              "      <td>89</td>\n",
              "      <td>173</td>\n",
              "      <td>52</td>\n",
              "      <td>1</td>\n",
              "    </tr>\n",
              "    <tr>\n",
              "      <th>603</th>\n",
              "      <td>January</td>\n",
              "      <td>2009</td>\n",
              "      <td>86</td>\n",
              "      <td>60</td>\n",
              "      <td>91</td>\n",
              "      <td>170</td>\n",
              "      <td>55</td>\n",
              "      <td>1</td>\n",
              "    </tr>\n",
              "  </tbody>\n",
              "</table>\n",
              "<p>604 rows × 8 columns</p>\n",
              "</div>"
            ],
            "text/plain": [
              "         Month  Year  Bust  Waist  Hips  Height  Weight  old\n",
              "0     December  1953    91     61    91     165      54    0\n",
              "1        March  1954    86     61    89     168      54    0\n",
              "2         July  1955    91     61    91     166      52    0\n",
              "3     December  1955    91     61    91     166      52    0\n",
              "4         July  1956    91     61    86     157      48    0\n",
              "..         ...   ...   ...    ...   ...     ...     ...  ...\n",
              "599  September  2008    86     64    91     170      52    1\n",
              "600    October  2008    86     61    86     165      52    1\n",
              "601   November  2008    86     53    81     168      49    1\n",
              "602   December  2008    86     64    89     173      52    1\n",
              "603    January  2009    86     60    91     170      55    1\n",
              "\n",
              "[604 rows x 8 columns]"
            ]
          },
          "metadata": {
            "tags": []
          },
          "execution_count": 6
        }
      ]
    },
    {
      "cell_type": "code",
      "metadata": {
        "id": "t4zQoOcI7ecb",
        "colab_type": "code",
        "outputId": "4e2bfc3f-319a-4164-c17e-71a4be3ce8ee",
        "colab": {
          "base_uri": "https://localhost:8080/",
          "height": 265
        }
      },
      "source": [
        "plt.scatter(x=df.Weight, y=df.Height, c=df.old.map({1:'red', 0:'blue'}));"
      ],
      "execution_count": 0,
      "outputs": [
        {
          "output_type": "display_data",
          "data": {
            "image/png": "[encoded data removed]",
            "text/plain": [
              "<Figure size 432x288 with 1 Axes>"
            ]
          },
          "metadata": {
            "tags": []
          }
        }
      ]
    },
    {
      "cell_type": "code",
      "metadata": {
        "id": "naKiIEEnpXkt",
        "colab_type": "code",
        "colab": {}
      },
      "source": [
        "for k in range(1,11): #кол-во соседей\n",
        "  knn = KNeighborsClassifier(n_neighbors=k) #для каждого обучаем свою модель\n",
        "  x = df[['Height','Weight']]\n",
        "  y = df['old']\n",
        "  knn.fit(x, y)"
      ],
      "execution_count": 0,
      "outputs": []
    },
    {
      "cell_type": "code",
      "metadata": {
        "id": "VxTr2DfSWtny",
        "colab_type": "code",
        "outputId": "60c8c374-c814-4cad-9e80-04213d0a3afb",
        "colab": {
          "base_uri": "https://localhost:8080/",
          "height": 34
        }
      },
      "source": [
        "X = df[['Height','Weight']]\n",
        "y = df['old']\n",
        "print(X.shape, y.shape)"
      ],
      "execution_count": 0,
      "outputs": [
        {
          "output_type": "stream",
          "text": [
            "(604, 2) (604,)\n"
          ],
          "name": "stdout"
        }
      ]
    },
    {
      "cell_type": "code",
      "metadata": {
        "id": "tfW9fr66ZbOH",
        "colab_type": "code",
        "colab": {}
      },
      "source": [
        "from sklearn.model_selection import train_test_split\n",
        "\n",
        "X_train, X_test, y_train, y_test =train_test_split(X, y, test_size=0.2, random_state=765)"
      ],
      "execution_count": 0,
      "outputs": []
    },
    {
      "cell_type": "code",
      "metadata": {
        "id": "9wJ7ZwIOZe3E",
        "colab_type": "code",
        "outputId": "39b56b91-2463-4051-cc6c-e09d084b8ed2",
        "colab": {
          "base_uri": "https://localhost:8080/",
          "height": 34
        }
      },
      "source": [
        "print(X_train.shape, X_test.shape, y_train.shape, y_test.shape)"
      ],
      "execution_count": 0,
      "outputs": [
        {
          "output_type": "stream",
          "text": [
            "(483, 2) (121, 2) (483,) (121,)\n"
          ],
          "name": "stdout"
        }
      ]
    },
    {
      "cell_type": "code",
      "metadata": {
        "id": "fN2DBYy_ZrNt",
        "colab_type": "code",
        "outputId": "7d9037b6-824d-466d-83e3-16f51be14b0e",
        "colab": {
          "base_uri": "https://localhost:8080/",
          "height": 54
        }
      },
      "source": [
        "from sklearn import metrics\n",
        "scores = {}\n",
        "scores_list = []\n",
        "for k in range(1,11): #кол-во соседей\n",
        "  knn = KNeighborsClassifier(n_neighbors=k) #для каждого обучаем свою модель\n",
        "  knn.fit(X_train, y_train)\n",
        "  y_pred = knn.predict(X_test) #сравниваем полученные с фактическими\n",
        "  accuracy = metrics.accuracy_score(y_test, y_pred)\n",
        "  scores[k] = accuracy\n",
        "print(scores)"
      ],
      "execution_count": 0,
      "outputs": [
        {
          "output_type": "stream",
          "text": [
            "{1: 0.5702479338842975, 2: 0.5371900826446281, 3: 0.6363636363636364, 4: 0.5619834710743802, 5: 0.5619834710743802, 6: 0.5619834710743802, 7: 0.6115702479338843, 8: 0.6115702479338843, 9: 0.628099173553719, 10: 0.5619834710743802}\n"
          ],
          "name": "stdout"
        }
      ]
    },
    {
      "cell_type": "code",
      "metadata": {
        "id": "FuH1PAnTaaaz",
        "colab_type": "code",
        "outputId": "f0b67cfc-2a66-440d-850a-d6ae355655d5",
        "colab": {
          "base_uri": "https://localhost:8080/",
          "height": 267
        }
      },
      "source": [
        "plt.plot(range(1,11), list(scores.values()));"
      ],
      "execution_count": 0,
      "outputs": [
        {
          "output_type": "display_data",
          "data": {
            "image/png": "[encoded data removed]",
            "text/plain": [
              "<Figure size 432x288 with 1 Axes>"
            ]
          },
          "metadata": {
            "tags": []
          }
        }
      ]
    },
    {
      "cell_type": "code",
      "metadata": {
        "id": "rlOkWhE8asnR",
        "colab_type": "code",
        "outputId": "d6d5c566-68f1-4d11-af19-3eecb9be58c3",
        "colab": {
          "base_uri": "https://localhost:8080/",
          "height": 68
        }
      },
      "source": [
        "knn_final = KNeighborsClassifier(n_neighbors=3)\n",
        "knn_final.fit(X, y)"
      ],
      "execution_count": 0,
      "outputs": [
        {
          "output_type": "execute_result",
          "data": {
            "text/plain": [
              "KNeighborsClassifier(algorithm='auto', leaf_size=30, metric='minkowski',\n",
              "                     metric_params=None, n_jobs=None, n_neighbors=3, p=2,\n",
              "                     weights='uniform')"
            ]
          },
          "metadata": {
            "tags": []
          },
          "execution_count": 24
        }
      ]
    },
    {
      "cell_type": "code",
      "metadata": {
        "id": "W5kwOdymbI9z",
        "colab_type": "code",
        "outputId": "c465a840-ad29-48bd-e86e-d04ac4415e9b",
        "colab": {
          "base_uri": "https://localhost:8080/",
          "height": 119
        }
      },
      "source": [
        "X_try = [\n",
        "         [165, 50],\n",
        "         [172, 60],\n",
        "         [180, 60],\n",
        "         [190, 55],\n",
        "         [150, 90],\n",
        "         [165, 52]\n",
        "]\n",
        "y_predict = knn_final.predict(X_try)\n",
        "for x_, y_ in zip(X_try, y_predict):\n",
        "  type_ = dict(enumerate('old')).get(y_)\n",
        "  print(f'{x_} -->  {type_}')"
      ],
      "execution_count": 0,
      "outputs": [
        {
          "output_type": "stream",
          "text": [
            "[165, 50] -->  o\n",
            "[172, 60] -->  o\n",
            "[180, 60] -->  l\n",
            "[190, 55] -->  l\n",
            "[150, 90] -->  o\n",
            "[165, 52] -->  o\n"
          ],
          "name": "stdout"
        }
      ]
    }
  ]
}